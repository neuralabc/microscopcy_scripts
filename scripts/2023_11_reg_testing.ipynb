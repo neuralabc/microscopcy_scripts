{
 "cells": [
  {
   "cell_type": "code",
   "execution_count": null,
   "id": "9246e30f-41d4-4c4e-b877-6cf73f1caa71",
   "metadata": {
    "tags": []
   },
   "outputs": [],
   "source": [
    "import numpy as np\n",
    "import ants"
   ]
  },
  {
   "cell_type": "code",
   "execution_count": 9,
   "id": "3f4b8144-6fc1-4e8e-84c3-a12f5923c60a",
   "metadata": {
    "tags": []
   },
   "outputs": [
    {
     "name": "stdout",
     "output_type": "stream",
     "text": [
      "Transforms (None): ['test_none_0GenericAffine.mat', 'test_none_1InverseWarp.nii.gz']\n",
      "Transforms (Identity): ['test_identity_0GenericAffine.mat', 'test_identity_1InverseWarp.nii.gz']\n"
     ]
    }
   ],
   "source": [
    "import ants\n",
    "import numpy as np\n",
    "\n",
    "# Generate synthetic fixed and moving images\n",
    "fixed_image = ants.from_numpy(np.eye(64))  # Identity matrix as the fixed image\n",
    "moving_image = ants.from_numpy(np.roll(np.eye(64), 5, axis=1))  # Shifted identity as the moving image\n",
    "\n",
    "# Save the generated images for reference\n",
    "fixed_image.to_file(\"fixed_image.nii.gz\")\n",
    "moving_image.to_file(\"moving_image.nii.gz\")\n",
    "\n",
    "# Perform registration with initial_transform=None\n",
    "reg_none = ants.registration(\n",
    "    fixed=fixed_image,\n",
    "    moving=moving_image,\n",
    "    type_of_transform=\"SyNOnly\",\n",
    "    initial_transform=None,  # Default: computes center-of-mass alignment\n",
    "    outprefix=\"test_none_\"\n",
    ")\n",
    "print(\"Transforms (None):\", reg_none[\"invtransforms\"])\n",
    "\n",
    "# Perform registration with initial_transform='Identity'\n",
    "reg_identity = ants.registration(\n",
    "    fixed=fixed_image,\n",
    "    moving=moving_image,\n",
    "    type_of_transform=\"SyNOnly\",\n",
    "    initial_transform=\"Identity\",  # No initial transform\n",
    "    outprefix=\"test_identity_\"\n",
    ")\n",
    "print(\"Transforms (Identity):\", reg_identity[\"invtransforms\"])\n",
    "\n",
    "# # Perform registration with a precomputed transform\n",
    "# # Here, we'll save a simple affine transform matrix to a file\n",
    "# precomputed_transform_file = \"precomputed_transform.mat\"\n",
    "# np.savetxt(precomputed_transform_file, np.eye(4))  # Identity matrix as a transform\n",
    "\n",
    "# reg_precomputed = ants.registration(\n",
    "#     fixed=fixed_image,\n",
    "#     moving=moving_image,\n",
    "#     type_of_transform=\"SyNOnly\",\n",
    "#     initial_transform=precomputed_transform_file,\n",
    "#     outprefix=\"test_precomputed_\"\n",
    "# )\n",
    "# print(\"Transforms (Precomputed):\", reg_precomputed[\"invtransforms\"])\n"
   ]
  },
  {
   "cell_type": "code",
   "execution_count": null,
   "id": "f9dc81af-b441-4bf6-b36c-ca0eda1defff",
   "metadata": {},
   "outputs": [
    {
     "data": {
      "text/plain": [
       "{'warpedmovout': ANTsImage\n",
       " \t Pixel Type : float (float32)\n",
       " \t Components : 1\n",
       " \t Dimensions : (64, 64)\n",
       " \t Spacing    : (1.0, 1.0)\n",
       " \t Origin     : (0.0, 0.0)\n",
       " \t Direction  : [1. 0. 0. 1.],\n",
       " 'warpedfixout': ANTsImage\n",
       " \t Pixel Type : float (float32)\n",
       " \t Components : 1\n",
       " \t Dimensions : (64, 64)\n",
       " \t Spacing    : (1.0, 1.0)\n",
       " \t Origin     : (0.0, 0.0)\n",
       " \t Direction  : [1. 0. 0. 1.],\n",
       " 'fwdtransforms': ['test_identity_1Warp.nii.gz',\n",
       "  'test_identity_0GenericAffine.mat'],\n",
       " 'invtransforms': ['test_identity_0GenericAffine.mat',\n",
       "  'test_identity_1InverseWarp.nii.gz']}"
      ]
     },
     "execution_count": 19,
     "metadata": {},
     "output_type": "execute_result"
    }
   ],
   "source": [
    "mat_file_path=reg_identity['invtransforms'][0]\n",
    "# Load the transform using ANTsPy\n",
    "transform = ants.read_transform(mat_file_path)\n",
    "\n",
    "# Extract the affine matrix\n",
    "affine_matrix = transform.parameters\n",
    "print(affine_matrix)\n",
    "print(transform.fixed_parameters)"
   ]
  },
  {
   "cell_type": "code",
   "execution_count": null,
   "id": "5202790c",
   "metadata": {},
   "outputs": [],
   "source": [
    "def compute_intermediate_non_linear_slice(pre_img, post_img, current_img=None, additional_coreg_mean = True, \n",
    "                                          idx=None):\n",
    "\n",
    "    import numpy\n",
    "    import tempfile\n",
    "    import ants\n",
    "\n",
    "    # Load images using ANTs\n",
    "    pre_ants = ants.image_read(pre_img)\n",
    "    post_ants = ants.image_read(post_img)\n",
    "\n",
    "    # Step 1: Perform rigid registration from pre to post slice and post to pre slice\n",
    "    pre_to_post_rigid = ants.registration(fixed=post_ants, moving=pre_ants, type_of_transform='Rigid')\n",
    "    post_to_pre_rigid = ants.registration(fixed=pre_ants, moving=post_ants, type_of_transform='Rigid')\n",
    "\n",
    "    # Step 2: Apply the rigid transformation to each image for initial alignment\n",
    "    pre_aligned = pre_to_post_rigid['warpedmovout']\n",
    "    post_aligned = post_to_pre_rigid['warpedmovout']\n",
    "    \n",
    "    # pre_aligned = ants.apply_transforms(fixed=post_ants, moving=pre_ants, transformlist=pre_to_post_rigid['fwdtransforms'])\n",
    "    # post_aligned = ants.apply_transforms(fixed=pre_ants, moving=post_ants, transformlist=post_to_pre_rigid['fwdtransforms'])\n",
    "\n",
    "    # # Step 3: Perform non-linear registration on the rigidly aligned images\n",
    "    # we use full syn b/c we actually want the intermediate image to be the size in between the two (so include affine here)\n",
    "    pre_to_post_nonlin = ants.registration(fixed=post_aligned, moving=pre_aligned, type_of_transform='SyNOnly',\n",
    "                                           initial_transform='Identity') #must select identity as initial transform since we already did rigid\n",
    "    post_to_pre_nonlin = ants.registration(fixed=pre_aligned, moving=post_aligned, type_of_transform='SyNOnly',\n",
    "                                           initial_transform='Identity')\n",
    "\n",
    "    # Step 4: Load the non-linear deformation fields as images\n",
    "    # https://antspy.readthedocs.io/en/latest/registration.html #for reference\n",
    "    pre_to_post_field = ants.image_read(pre_to_post_nonlin['fwdtransforms'][0]) # 2nd on the stack is the Affine\n",
    "    post_to_pre_field = ants.image_read(post_to_pre_nonlin['invtransforms'][1]) # grab the inverse deformation field, which is the 2nd on the stack for inverted\n",
    "\n",
    "\n",
    "    # Step 5: Convert the deformation fields to NumPy arrays and average them\n",
    "    avg_field_data = (pre_to_post_field.numpy() + post_to_pre_field.numpy()) / 2\n",
    "    avg_field = ants.from_numpy(avg_field_data, spacing=pre_to_post_field.spacing+(1.0,)) #need a 3rd dimension for spacing\n",
    "    \n",
    "    #we need to have the transform as a file, so we create a temp version here\n",
    "    with tempfile.NamedTemporaryFile(suffix='.nii.gz') as temp_file:\n",
    "        avg_field_path = temp_file.name\n",
    "        ants.image_write(avg_field, avg_field_path)\n",
    "\n",
    "        ## apply within the with statement to use the file prior to deletion (default is non- persistence)\n",
    "        # Step 6: Apply the averaged non-linear deformation field to the rigidly aligned pre-image\n",
    "        intermediate_img = ants.apply_transforms(fixed=post_ants, moving=pre_aligned, transformlist=[avg_field_path])\n",
    "\n",
    "    intermediate_img_np = intermediate_img.numpy()\n",
    "\n",
    "    # if you want to, we now coregister the images to the new target and then take their mean\n",
    "    if additional_coreg_mean: \n",
    "        # Step 1: Perform rigid registration from pre to post slice and post to pre slice\n",
    "        pre_to_post_rigid = ants.registration(fixed=intermediate_img, moving=pre_ants, type_of_transform='Rigid')\n",
    "        post_to_pre_rigid = ants.registration(fixed=intermediate_img, moving=post_ants, type_of_transform='Rigid')\n",
    "\n",
    "        # Step 2: Apply the rigid transformation to each image for initial alignment\n",
    "        pre_aligned = ants.apply_transforms(fixed=intermediate_img, moving=pre_ants, transformlist=pre_to_post_rigid['fwdtransforms'])\n",
    "        post_aligned = ants.apply_transforms(fixed=intermediate_img, moving=post_ants, transformlist=post_to_pre_rigid['fwdtransforms'])\n",
    "\n",
    "\n",
    "        # # Step 3: Perform non-linear registration on the rigidly aligned images\n",
    "        # we use full syn b/c we actually want the intermediate image to be the size in between the two (so include affine here)\n",
    "        pre_to_post_nonlin = ants.registration(fixed=intermediate_img, moving=pre_aligned, type_of_transform='SyNOnly',\n",
    "                                               initial_transform='Identity')\n",
    "        post_to_pre_nonlin = ants.registration(fixed=intermediate_img, moving=post_aligned, type_of_transform='SyNOnly',\n",
    "                                               initial_transform='Identity')\n",
    "\n",
    "        # Step 4: Load the deformed images\n",
    "        pre_to_post_img = pre_to_post_nonlin['warpedmovout']\n",
    "        post_to_pre_img = post_to_pre_nonlin['warpedmovout']\n",
    "\n",
    "        # Step 5: Compute the average of the deformed images\n",
    "        intermediate_img_np = (pre_to_post_img.numpy() + post_to_pre_img.numpy()) / 2\n",
    "\n",
    "        if current_img is not None: #if we have a current image to push into this space, we should do this here\n",
    "            current_img = ants.image_read(current_img)\n",
    "            # Step 6: Register the current slice to the interpolated slice\n",
    "                            \n",
    "            # Convert the data array to an ANTs image\n",
    "            new_image = ants.from_numpy(intermediate_img_np)\n",
    "            # Set the spatial information (origin, spacing, direction) from the reference image\n",
    "            new_image.set_origin(pre_ants.origin)\n",
    "            new_image.set_spacing(pre_ants.spacing)\n",
    "            new_image.set_direction(pre_ants.direction)\n",
    "            # ants.image_write(new_image, intermediate_img_fname)\n",
    "            \n",
    "            \n",
    "            #rigid\n",
    "            current_to_template_rigid = ants.registration(fixed=new_image,moving=current_img,type_of_transform='Rigid') \n",
    "            current_aligned_rigid = ants.apply_transforms(fixed=new_image, moving=current_img, transformlist=current_to_template_rigid['fwdtransforms'])\n",
    "            \n",
    "            ## TODO: uncertain if this is necessary, as incorporating the nonlin step here may hurt more than help, since we are deforming to the intermediate img\n",
    "            #nonlin\n",
    "            current_to_template_nonlin = ants.registration(fixed=new_image,moving=current_aligned_rigid,type_of_transform='SyNOnly',\n",
    "                                                           initial_transform='Identity')\n",
    "            new_intermediate_img = current_to_template_nonlin['warpedmovout']\n",
    "                \n",
    "            intermediate_img_np = new_intermediate_img.numpy()\n",
    "\n",
    "    if idx is not None: #if we passed an index value, this is to keep track of parallel so we pass it back\n",
    "        return idx, intermediate_img_np\n",
    "    else: \n",
    "        return pre_aligned.numpy(), post_aligned.numpy(), intermediate_img_np\n",
    "\n"
   ]
  },
  {
   "cell_type": "code",
   "execution_count": 21,
   "id": "dd734f99",
   "metadata": {},
   "outputs": [],
   "source": [
    "import numpy as np\n",
    "import ants\n",
    "import tempfile\n",
    "import os\n",
    "\n",
    "# # Create synthetic data: 10 slices with simple gradient-based images for demonstration\n",
    "# def create_synthetic_slices(num_slices, shape=(256, 256)):\n",
    "#     slices = []\n",
    "#     for i in range(num_slices):\n",
    "#         img_data = np.zeros(shape)\n",
    "#         img_data[:, :] = i  # Simple gradient effect to create a different pattern per slice\n",
    "#         img = ants.from_numpy(img_data, origin=(0, 0), spacing=(1.0, 1.0), direction=np.eye(2))\n",
    "#         slices.append(img)\n",
    "#     return slices\n",
    "\n",
    "# Path for temporary image files\n",
    "def save_temp_image(ants_image):\n",
    "    with tempfile.NamedTemporaryFile(suffix='.nii.gz', delete=False) as tmp_file:\n",
    "        ants.image_write(ants_image, tmp_file.name)\n",
    "        return tmp_file.name\n",
    "\n",
    "# Function to test compute_intermediate_non_linear_slice on synthetic data\n",
    "def test_compute_intermediate(pre_img, post_img, current_img=None):\n",
    "    # Call the function for computing intermediate slices\n",
    "    intermediate_slice = compute_intermediate_non_linear_slice(pre_img, post_img, current_img)\n",
    "    \n",
    "    # Display the result for testing purposes\n",
    "    print(\"Intermediate Slice (Shape):\", intermediate_slice.shape)\n",
    "    return intermediate_slice\n",
    "\n",
    "# # Generate synthetic data for 10 slices\n",
    "# num_slices = 10\n",
    "# slices = create_synthetic_slices(num_slices)\n",
    "\n",
    "# # Save the synthetic slices to temporary files\n",
    "# pre_img_path = save_temp_image(slices[3])  # 4th slice as pre-image\n",
    "# post_img_path = save_temp_image(slices[4])  # 5th slice as post-image\n",
    "# current_img_path = save_temp_image(slices[2])  # 3rd slice as current-image for testing\n",
    "\n",
    "# # Test the intermediate slice generation\n",
    "# intermediate_img = test_compute_intermediate(pre_img_path, post_img_path, current_img_path)\n",
    "\n",
    "# # Clean up temporary files\n",
    "# os.remove(pre_img_path)\n",
    "# os.remove(post_img_path)\n",
    "# os.remove(current_img_path)\n"
   ]
  },
  {
   "cell_type": "code",
   "execution_count": 26,
   "id": "26058853",
   "metadata": {},
   "outputs": [
    {
     "data": {
      "image/png": "[encoded data removed]",
      "text/plain": [
       "<Figure size 640x480 with 1 Axes>"
      ]
     },
     "metadata": {},
     "output_type": "display_data"
    },
    {
     "data": {
      "image/png": "[encoded data removed]",
      "text/plain": [
       "<Figure size 640x480 with 1 Axes>"
      ]
     },
     "metadata": {},
     "output_type": "display_data"
    },
    {
     "data": {
      "image/png": "[encoded data removed]",
      "text/plain": [
       "<Figure size 640x480 with 1 Axes>"
      ]
     },
     "metadata": {},
     "output_type": "display_data"
    },
    {
     "data": {
      "image/png": "[encoded data removed]",
      "text/plain": [
       "<Figure size 640x480 with 1 Axes>"
      ]
     },
     "metadata": {},
     "output_type": "display_data"
    }
   ],
   "source": [
    "import numpy as np\n",
    "import ants\n",
    "import matplotlib.pyplot as plt\n",
    "from skimage.draw import rectangle\n",
    "from skimage.transform import rotate\n",
    "\n",
    "def create_synthetic_slices(num_slices, shape=(256, 256), max_square_size=100, max_translation=20, max_rotation=15):\n",
    "    \"\"\"\n",
    "    Generates synthetic slices with a growing square that undergoes random rotation and translation across slices.\n",
    "    \n",
    "    Parameters:\n",
    "    num_slices (int): Number of slices to generate.\n",
    "    shape (tuple): Shape of each slice (height, width).\n",
    "    max_square_size (int): Maximum size of the square.\n",
    "    max_translation (int): Maximum translation (in pixels) for each slice.\n",
    "    max_rotation (int): Maximum rotation (in degrees) for each slice.\n",
    "    \n",
    "    Returns:\n",
    "    List of ANTsImages containing the generated slices.\n",
    "    \"\"\"\n",
    "    slices = []\n",
    "    square_size_increment = max_square_size // num_slices  # Increase square size gradually\n",
    "\n",
    "    for i in range(num_slices):\n",
    "        # Create a blank image\n",
    "        img_data = np.zeros(shape)\n",
    "        \n",
    "        \n",
    "        # Calculate square size for the current slice\n",
    "        square_size = min((i + 1) * square_size_increment, max_square_size)\n",
    "        \n",
    "        # Determine random translation (up to 20 pixels in each direction)\n",
    "        translation_x = np.random.randint(-max_translation, max_translation)\n",
    "        translation_y = np.random.randint(-max_translation, max_translation)\n",
    "        \n",
    "        # Draw the square at the center with the calculated size\n",
    "        rr, cc = rectangle(start=(shape[0] // 2 - square_size // 2 + translation_y, \n",
    "                                  shape[1] // 2 - square_size // 2 + translation_x),\n",
    "                           extent=(square_size, square_size), shape=shape)\n",
    "        img_data[rr, cc] = np.random.rand()\n",
    "        \n",
    "        # Rotate the square randomly between 0 and 15 degrees\n",
    "        rotated_square = rotate(img_data, np.random.uniform(0, max_rotation), resize=False, mode='reflect')\n",
    "        \n",
    "        # Convert to ANTsImage for registration\n",
    "        ants_img = ants.from_numpy(rotated_square, origin=(0, 0), spacing=(1.0, 1.0), direction=np.eye(2))\n",
    "        slices.append(ants_img)\n",
    "        \n",
    "        # Optionally, show the slices for visualization (only for the first 3 slices)\n",
    "        if i < 3:\n",
    "            plt.imshow(rotated_square, cmap='gray')\n",
    "            plt.title(f\"Synthetic Slice {i+1}\")\n",
    "            plt.show()\n",
    "\n",
    "    return slices\n",
    "\n",
    "# Test the function by generating 10 synthetic slices with growing squares\n",
    "slices = create_synthetic_slices(100)\n",
    "\n",
    "# Display the first generated slice\n",
    "plt.imshow(slices[0].numpy(), cmap='gray')\n",
    "plt.title(\"First Synthetic Slice\")\n",
    "plt.show()\n"
   ]
  },
  {
   "cell_type": "code",
   "execution_count": 27,
   "id": "13224dd0",
   "metadata": {},
   "outputs": [],
   "source": [
    "# Save the synthetic slices to temporary files\n",
    "pre_img_path = save_temp_image(slices[25])  # 4th slice as pre-image\n",
    "post_img_path = save_temp_image(slices[27])  # 5th slice as post-image\n",
    "current_img_path = save_temp_image(slices[26])  # 3rd slice as current-image for testing\n",
    "\n",
    "# Test the intermediate slice generation\n",
    "pre,post,intermediate_img = compute_intermediate_non_linear_slice(pre_img_path, post_img_path, current_img_path)\n"
   ]
  },
  {
   "cell_type": "code",
   "execution_count": 37,
   "id": "8cfa0959",
   "metadata": {},
   "outputs": [
    {
     "data": {
      "text/plain": [
       "<matplotlib.image.AxesImage at 0x740969f31fd0>"
      ]
     },
     "execution_count": 37,
     "metadata": {},
     "output_type": "execute_result"
    },
    {
     "data": {
      "image/png": "[encoded data removed]",
      "text/plain": [
       "<Figure size 640x480 with 1 Axes>"
      ]
     },
     "metadata": {},
     "output_type": "display_data"
    }
   ],
   "source": [
    "plt.imshow(slices[25].numpy(),cmap='grey',alpha=0.5)\n",
    "plt.imshow(slices[27].numpy(),cmap='grey',alpha=0.5)\n",
    "# plt.figure()\n",
    "# plt.imshow(pre,cmap='Reds',alpha=0.7)\n",
    "plt.imshow(post,cmap='Reds',alpha=0.7)\n",
    "# plt.figure()\n"
   ]
  },
  {
   "cell_type": "code",
   "execution_count": null,
   "id": "c0ac30b4",
   "metadata": {},
   "outputs": [
    {
     "data": {
      "text/plain": [
       "<matplotlib.image.AxesImage at 0x74095e8e0ad0>"
      ]
     },
     "execution_count": 107,
     "metadata": {},
     "output_type": "execute_result"
    },
    {
     "data": {
      "image/png": "[encoded data removed]",
      "text/plain": [
       "<Figure size 640x480 with 1 Axes>"
      ]
     },
     "metadata": {},
     "output_type": "display_data"
    }
   ],
   "source": [
    "# Load images using ANTs\n",
    "pre_img = save_temp_image(slices[25])  # 4th slice as pre-image\n",
    "post_img = save_temp_image(slices[27])  # 5th slice as post-image\n",
    "pre_ants = ants.image_read(pre_img)\n",
    "post_ants = ants.image_read(post_img)\n",
    "\n",
    "avg_d = (pre_ants.numpy()+post_ants.numpy())/2 #this is a terrible average but we need to start somewhere\n",
    "# Convert the data array to an ANTs image\n",
    "new_image = ants.from_numpy(avg_d)\n",
    "# Set the spatial information (origin, spacing, direction) from the reference image\n",
    "new_image.set_origin(pre_ants.origin)\n",
    "new_image.set_spacing(pre_ants.spacing)\n",
    "new_image.set_direction(pre_ants.direction)\n",
    "\n",
    "# Step 1: Perform rigid registration from pre to post slice and post to pre slice\n",
    "pre_to_post_rigid = ants.registration(fixed=new_image, moving=pre_ants, type_of_transform='Rigid')\n",
    "post_to_pre_rigid = ants.registration(fixed=new_image, moving=post_ants, type_of_transform='Rigid')\n",
    "# pre_aligned = pre_to_post_rigid['warpedmovout']\n",
    "# post_aligned = post_to_pre_rigid['warpedmovout']\n",
    "# pre_aligned = ants.apply_transforms(fixed=post_ants, moving=pre_ants, transformlist=pre_to_post_rigid['fwdtransforms'])\n",
    "# post_aligned = ants.apply_transforms(fixed=pre_ants, moving=post_ants, transformlist=post_to_pre_rigid['fwdtransforms'])\n",
    "\n",
    "pre_to_post_nonlin = ants.registration(fixed=new_image, moving=pre_ants, type_of_transform='SyNOnly',\n",
    "                                    initial_transform=pre_to_post_rigid['fwdtransforms'])\n",
    "post_to_pre_nonlin = ants.registration(fixed=new_image, moving=post_ants, type_of_transform='SyNOnly',\n",
    "                                    initial_transform=post_to_pre_rigid['fwdtransforms'])\n",
    "\n",
    "# pre = pre_ants.numpy() #pre_to_post_nonlin['warpedfixout'].numpy()\n",
    "# post = post_ants.numpy() #post_to_pre_nonlin['warpedfixout'].numpy()\n",
    "pre = pre_to_post_nonlin['warpedmovout'].numpy()\n",
    "post =post_to_pre_nonlin['warpedmovout'].numpy()\n",
    "pre[pre==0]=np.nan\n",
    "post[post==0]=np.nan\n",
    "plt.imshow(pre,cmap='Reds')\n",
    "plt.imshow(post,cmap='Blues',alpha=.75)\n"
   ]
  },
  {
   "cell_type": "code",
   "execution_count": 111,
   "id": "54f00975",
   "metadata": {},
   "outputs": [
    {
     "data": {
      "text/plain": [
       "<matplotlib.image.AxesImage at 0x74095ef8dd60>"
      ]
     },
     "execution_count": 111,
     "metadata": {},
     "output_type": "execute_result"
    },
    {
     "data": {
      "image/png": "[encoded data removed]",
      "text/plain": [
       "<Figure size 640x480 with 1 Axes>"
      ]
     },
     "metadata": {},
     "output_type": "display_data"
    }
   ],
   "source": [
    "pre = pre_ants.numpy() #pre_to_post_nonlin['warpedfixout'].numpy()\n",
    "post = post_ants.numpy() #post_to_pre_nonlin['warpedfixout'].numpy()\n",
    "# pre = pre_to_post_nonlin['warpedmovout'].numpy()\n",
    "# post =post_to_pre_nonlin['warpedmovout'].numpy()\n",
    "pre[pre==0]=np.nan\n",
    "post[post==0]=np.nan\n",
    "plt.imshow(avg_d,cmap='Greys')\n",
    "plt.imshow(pre,cmap='Reds')\n",
    "plt.imshow(post,cmap='Blues',alpha=.75)\n"
   ]
  },
  {
   "cell_type": "markdown",
   "id": "ed5b8c8b",
   "metadata": {},
   "source": []
  },
  {
   "cell_type": "code",
   "execution_count": 73,
   "id": "6f4d7140",
   "metadata": {},
   "outputs": [
    {
     "data": {
      "text/plain": [
       "<matplotlib.image.AxesImage at 0x74095f491520>"
      ]
     },
     "execution_count": 73,
     "metadata": {},
     "output_type": "execute_result"
    },
    {
     "data": {
      "image/png": "[encoded data removed]",
      "text/plain": [
       "<Figure size 640x480 with 1 Axes>"
      ]
     },
     "metadata": {},
     "output_type": "display_data"
    }
   ],
   "source": [
    "pre = pre_ants['warpedfixout'].numpy()\n",
    "post = post_ants['warpedfixout'].numpy()\n",
    "pre[pre==0]=np.nan\n",
    "post[post==0]=np.nan\n",
    "plt.imshow(pre,cmap='Reds')\n",
    "plt.imshow(post,cmap='Blues')"
   ]
  },
  {
   "cell_type": "code",
   "execution_count": 59,
   "id": "5582a8e6",
   "metadata": {},
   "outputs": [],
   "source": [
    "import numpy as np\n",
    "from scipy.spatial.transform import Rotation as R, Slerp\n",
    "\n",
    "def compute_midpoint_transform(matrix1, matrix2):\n",
    "    \"\"\"\n",
    "    Compute the midpoint transform between two affine transformation matrices.\n",
    "\n",
    "    Parameters:\n",
    "    - matrix1: np.ndarray\n",
    "        The first 4x4 affine transformation matrix.\n",
    "    - matrix2: np.ndarray\n",
    "        The second 4x4 affine transformation matrix.\n",
    "\n",
    "    Returns:\n",
    "    - midpoint_matrix: np.ndarray\n",
    "        The 4x4 affine transformation matrix representing the midpoint transform.\n",
    "    \"\"\"\n",
    "    # Extract rotation and translation components\n",
    "    rotation1 = matrix1[:3, :3]\n",
    "    rotation2 = matrix2[:3, :3]\n",
    "    translation1 = matrix1[:3, 3]\n",
    "    translation2 = matrix2[:3, 3]\n",
    "\n",
    "    # Convert rotation matrices to Rotation objects\n",
    "    rot1 = R.from_matrix(rotation1)\n",
    "    rot2 = R.from_matrix(rotation2)\n",
    "\n",
    "    # SLERP interpolation for the midpoint rotation\n",
    "    key_rots = R.concatenate([rot1, rot2])\n",
    "    slerp = Slerp([0, 1], key_rots)\n",
    "    midpoint_rotation = slerp(0.5).as_matrix()\n",
    "\n",
    "    # Average translation vectors\n",
    "    midpoint_translation = (translation1 + translation2) / 2\n",
    "\n",
    "    # Construct the midpoint affine matrix\n",
    "    midpoint_matrix = np.eye(4)\n",
    "    midpoint_matrix[:3, :3] = midpoint_rotation\n",
    "    midpoint_matrix[:3, 3] = midpoint_translation\n",
    "\n",
    "    return midpoint_matrix\n"
   ]
  },
  {
   "cell_type": "code",
   "execution_count": 62,
   "id": "a295b2d2",
   "metadata": {},
   "outputs": [
    {
     "data": {
      "text/plain": [
       "['/tmp/tmpc7nwbivb0GenericAffine.mat']"
      ]
     },
     "execution_count": 62,
     "metadata": {},
     "output_type": "execute_result"
    }
   ],
   "source": [
    "mat_file_path"
   ]
  },
  {
   "cell_type": "code",
   "execution_count": 69,
   "id": "79f16ebe",
   "metadata": {},
   "outputs": [
    {
     "name": "stdout",
     "output_type": "stream",
     "text": [
      "Affine Transform Matrix (2D):\n",
      "[[ 9.99954224e-01  9.56903212e-03  3.70981788e+00]\n",
      " [-9.56903212e-03  9.99954224e-01 -1.45408637e+01]\n",
      " [ 0.00000000e+00  0.00000000e+00  1.00000000e+00]]\n"
     ]
    }
   ],
   "source": [
    "# Path to the binary .mat file\n",
    "mat_file_path = pre_to_post_rigid['fwdtransforms'][0]\n",
    "\n",
    "# Load the transform using ANTsPy\n",
    "transform = ants.read_transform(mat_file_path)\n",
    "\n",
    "# Extract the affine parameters and fixed parameters\n",
    "parameters = transform.parameters  # Contains the 6 affine parameters\n",
    "fixed_parameters = transform.fixed_parameters  # Center of rotation (optional)\n",
    "\n",
    "# Split the parameters\n",
    "rotation_scaling = np.array(parameters[:4]).reshape(2, 2)  # 2x2 rotation-scaling matrix\n",
    "translation = np.array(parameters[4:])  # 2D translation vector\n",
    "\n",
    "# Adjust translation to account for the center of rotation (if provided)\n",
    "# if fixed_parameters:\n",
    "center = np.array(fixed_parameters)\n",
    "adjusted_translation = translation + rotation_scaling @ center - center\n",
    "# else:\n",
    "#     adjusted_translation = translation\n",
    "\n",
    "# Create the full 3x3 affine matrix for 2D\n",
    "affine_matrix = np.eye(3)\n",
    "affine_matrix[:2, :2] = rotation_scaling\n",
    "affine_matrix[:2, 2] = adjusted_translation\n",
    "\n",
    "# Display the result\n",
    "print(\"Affine Transform Matrix (2D):\")\n",
    "print(affine_matrix)\n"
   ]
  },
  {
   "cell_type": "code",
   "execution_count": 71,
   "id": "e4441396",
   "metadata": {},
   "outputs": [
    {
     "name": "stdout",
     "output_type": "stream",
     "text": [
      "[[ 9.99954224e-01  9.56903212e-03  0.00000000e+00  3.70981788e+00]\n",
      " [-9.56903212e-03  9.99954224e-01  0.00000000e+00 -1.45408637e+01]\n",
      " [ 0.00000000e+00  0.00000000e+00  1.00000000e+00  0.00000000e+00]\n",
      " [ 0.00000000e+00  0.00000000e+00  0.00000000e+00  1.00000000e+00]]\n"
     ]
    }
   ],
   "source": [
    "print(convert_2d_to_3d_affine(affine_matrix))"
   ]
  },
  {
   "cell_type": "code",
   "execution_count": 65,
   "id": "ae6b4104",
   "metadata": {},
   "outputs": [],
   "source": [
    "def convert_2d_to_3d_affine(affine_2d):\n",
    "    \"\"\"\n",
    "    Converts a 2D affine matrix (3x3) into a 3D affine matrix (4x4)\n",
    "    by assuming a singleton dimension for the third axis.\n",
    "    \n",
    "    Parameters:\n",
    "        affine_2d (np.ndarray): 3x3 affine matrix for 2D.\n",
    "    \n",
    "    Returns:\n",
    "        np.ndarray: 4x4 affine matrix for 3D.\n",
    "    \"\"\"\n",
    "    # Initialize a 4x4 identity matrix\n",
    "    affine_3d = np.eye(4)\n",
    "    \n",
    "    # Embed the 2D affine components into the 3D affine matrix\n",
    "    affine_3d[:2, :2] = affine_2d[:2, :2]  # Rotation + scaling\n",
    "    affine_3d[:2, 3] = affine_2d[:2, 2]    # Translation\n",
    "    \n",
    "    return affine_3d"
   ]
  }
 ],
 "metadata": {
  "kernelspec": {
   "display_name": "py3p12",
   "language": "python",
   "name": "python3"
  },
  "language_info": {
   "codemirror_mode": {
    "name": "ipython",
    "version": 3
   },
   "file_extension": ".py",
   "mimetype": "text/x-python",
   "name": "python",
   "nbconvert_exporter": "python",
   "pygments_lexer": "ipython3",
   "version": "3.12.7"
  }
 },
 "nbformat": 4,
 "nbformat_minor": 5
}
